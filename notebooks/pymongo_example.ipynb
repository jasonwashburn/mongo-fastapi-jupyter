{
 "cells": [
  {
   "cell_type": "code",
   "execution_count": 1,
   "id": "0106bbc2-4809-4bbd-b70d-b1c0e2918188",
   "metadata": {},
   "outputs": [],
   "source": [
    "!pip install -q pymongo rich pandas"
   ]
  },
  {
   "cell_type": "code",
   "execution_count": 2,
   "id": "434687c5-2d77-43c5-8ad5-6155faf7c52e",
   "metadata": {},
   "outputs": [],
   "source": [
    "import pymongo\n",
    "import urllib.parse\n",
    "from pymongo import MongoClient\n",
    "from bson.objectid import ObjectId\n",
    "import datetime\n",
    "from rich import print\n",
    "import pandas as pd\n",
    "import os"
   ]
  },
  {
   "cell_type": "code",
   "execution_count": 3,
   "id": "bc8724b7-ce69-4334-b48a-865fbd113119",
   "metadata": {},
   "outputs": [],
   "source": [
    "username = urllib.parse.quote_plus(os.environ[\"MONGO_INITDB_ROOT_USERNAME\"])\n",
    "password = urllib.parse.quote_plus(os.environ[\"MONGO_INITDB_ROOT_PASSWORD\"])\n",
    "mongo_host = \"mongodb\"\n",
    "# client = MongoClient('mongodb://%s:%s@mongodb' % (username, password))\n",
    "client = MongoClient(f\"mongodb://{username}:{password}@{mongo_host}\")"
   ]
  },
  {
   "cell_type": "code",
   "execution_count": 4,
   "id": "475d187b-000c-484d-91c1-660b01fa7248",
   "metadata": {},
   "outputs": [],
   "source": [
    "db = client['tarp-data']\n",
    "collection = db['tarp-params']"
   ]
  },
  {
   "cell_type": "code",
   "execution_count": 5,
   "id": "1b0ed48d-e8cc-4317-9072-0607aa107849",
   "metadata": {},
   "outputs": [],
   "source": [
    "param = { \"parameter\": 1000000,\n",
    "         \"source\":\n",
    "            {\n",
    "                \"model\": \"==GLWM\",\n",
    "                \"run\": 1639742400,\n",
    "                \"forecast\": 3600\n",
    "            },\n",
    "         \"name\": \"Temperature Air\",\n",
    "         \"unit\": \"kelvin\",\n",
    "         \"levels\": \n",
    "            {\n",
    "                \"2m\": [270, 275, 280, 285],\n",
    "                \"900mb\": [250, 240, 230, 220]\n",
    "            },\n",
    "         \"time_entered\": datetime.datetime.utcnow(),\n",
    "         \"metadata\":\n",
    "            {\n",
    "                \"edited_by\": \"Jason\",\n",
    "                \"tags\": [\"some\", \"tags\", \"here\"]\n",
    "            }\n",
    "       }\n",
    "\n",
    "param2 = { \"parameter\": 500851,\n",
    "         \"source\":\n",
    "            {\n",
    "                \"model\": \"==GLWM\",\n",
    "                \"run\": 1639742400,\n",
    "                \"forecast\": 3600\n",
    "            },\n",
    "         \"name\": \"Relative Humidity\",\n",
    "         \"unit\": \"percent\",\n",
    "         \"levels\": \n",
    "            {\n",
    "                \"2m\": [60, 65, 70, 75],\n",
    "                \"900mb\": [10, 15, 16, 17]\n",
    "            },\n",
    "         \"time_entered\": datetime.datetime.utcnow(),\n",
    "         \"metadata\":\n",
    "            {\n",
    "                \"edited_by\": \"Jason\",\n",
    "                \"tags\": [\"different\", \"tags\", \"here\", \"too\"]\n",
    "            }\n",
    "       }"
   ]
  },
  {
   "cell_type": "code",
   "execution_count": 6,
   "id": "23ac215b-f8b3-4d46-8b31-1d4e0ae6977e",
   "metadata": {},
   "outputs": [],
   "source": [
    "object_id = collection.insert_one(param).inserted_id\n",
    "object_id2 = collection.insert_one(param2).inserted_id"
   ]
  },
  {
   "cell_type": "code",
   "execution_count": 7,
   "id": "508b435f-127a-409c-b5a7-c5c8b57912d9",
   "metadata": {},
   "outputs": [
    {
     "data": {
      "text/html": [
       "<pre style=\"white-space:pre;overflow-x:auto;line-height:normal;font-family:Menlo,'DejaVu Sans Mono',consolas,'Courier New',monospace\">61bcf1e60d5e6b0870dc0728\n",
       "</pre>\n"
      ],
      "text/plain": [
       "61bcf1e60d5e6b0870dc0728\n"
      ]
     },
     "metadata": {},
     "output_type": "display_data"
    },
    {
     "data": {
      "text/html": [
       "<pre style=\"white-space:pre;overflow-x:auto;line-height:normal;font-family:Menlo,'DejaVu Sans Mono',consolas,'Courier New',monospace\">61bcf1e60d5e6b0870dc0729\n",
       "</pre>\n"
      ],
      "text/plain": [
       "61bcf1e60d5e6b0870dc0729\n"
      ]
     },
     "metadata": {},
     "output_type": "display_data"
    }
   ],
   "source": [
    "print(object_id)\n",
    "print(object_id2)"
   ]
  },
  {
   "cell_type": "code",
   "execution_count": 8,
   "id": "5c05b0a3-2cea-4c7a-a87b-e4db9bfc738b",
   "metadata": {},
   "outputs": [
    {
     "data": {
      "text/html": [
       "<pre style=\"white-space:pre;overflow-x:auto;line-height:normal;font-family:Menlo,'DejaVu Sans Mono',consolas,'Courier New',monospace\"><span style=\"font-weight: bold\">{</span>\n",
       "    <span style=\"color: #008000; text-decoration-color: #008000\">'_id'</span>: <span style=\"color: #800080; text-decoration-color: #800080; font-weight: bold\">ObjectId</span><span style=\"font-weight: bold\">(</span><span style=\"color: #008000; text-decoration-color: #008000\">'61bcf1e60d5e6b0870dc0728'</span><span style=\"font-weight: bold\">)</span>,\n",
       "    <span style=\"color: #008000; text-decoration-color: #008000\">'parameter'</span>: <span style=\"color: #008080; text-decoration-color: #008080; font-weight: bold\">1000000</span>,\n",
       "    <span style=\"color: #008000; text-decoration-color: #008000\">'source'</span>: <span style=\"font-weight: bold\">{</span><span style=\"color: #008000; text-decoration-color: #008000\">'model'</span>: <span style=\"color: #008000; text-decoration-color: #008000\">'==GLWM'</span>, <span style=\"color: #008000; text-decoration-color: #008000\">'run'</span>: <span style=\"color: #008080; text-decoration-color: #008080; font-weight: bold\">1639742400</span>, <span style=\"color: #008000; text-decoration-color: #008000\">'forecast'</span>: <span style=\"color: #008080; text-decoration-color: #008080; font-weight: bold\">3600</span><span style=\"font-weight: bold\">}</span>,\n",
       "    <span style=\"color: #008000; text-decoration-color: #008000\">'name'</span>: <span style=\"color: #008000; text-decoration-color: #008000\">'Temperature Air'</span>,\n",
       "    <span style=\"color: #008000; text-decoration-color: #008000\">'unit'</span>: <span style=\"color: #008000; text-decoration-color: #008000\">'kelvin'</span>,\n",
       "    <span style=\"color: #008000; text-decoration-color: #008000\">'levels'</span>: <span style=\"font-weight: bold\">{</span><span style=\"color: #008000; text-decoration-color: #008000\">'2m'</span>: <span style=\"font-weight: bold\">[</span><span style=\"color: #008080; text-decoration-color: #008080; font-weight: bold\">270</span>, <span style=\"color: #008080; text-decoration-color: #008080; font-weight: bold\">275</span>, <span style=\"color: #008080; text-decoration-color: #008080; font-weight: bold\">280</span>, <span style=\"color: #008080; text-decoration-color: #008080; font-weight: bold\">285</span><span style=\"font-weight: bold\">]</span>, <span style=\"color: #008000; text-decoration-color: #008000\">'900mb'</span>: <span style=\"font-weight: bold\">[</span><span style=\"color: #008080; text-decoration-color: #008080; font-weight: bold\">250</span>, <span style=\"color: #008080; text-decoration-color: #008080; font-weight: bold\">240</span>, <span style=\"color: #008080; text-decoration-color: #008080; font-weight: bold\">230</span>, <span style=\"color: #008080; text-decoration-color: #008080; font-weight: bold\">220</span><span style=\"font-weight: bold\">]}</span>,\n",
       "    <span style=\"color: #008000; text-decoration-color: #008000\">'time_entered'</span>: <span style=\"color: #800080; text-decoration-color: #800080; font-weight: bold\">datetime.datetime</span><span style=\"font-weight: bold\">(</span><span style=\"color: #008080; text-decoration-color: #008080; font-weight: bold\">2021</span>, <span style=\"color: #008080; text-decoration-color: #008080; font-weight: bold\">12</span>, <span style=\"color: #008080; text-decoration-color: #008080; font-weight: bold\">17</span>, <span style=\"color: #008080; text-decoration-color: #008080; font-weight: bold\">20</span>, <span style=\"color: #008080; text-decoration-color: #008080; font-weight: bold\">24</span>, <span style=\"color: #008080; text-decoration-color: #008080; font-weight: bold\">6</span>, <span style=\"color: #008080; text-decoration-color: #008080; font-weight: bold\">431000</span><span style=\"font-weight: bold\">)</span>,\n",
       "    <span style=\"color: #008000; text-decoration-color: #008000\">'metadata'</span>: <span style=\"font-weight: bold\">{</span><span style=\"color: #008000; text-decoration-color: #008000\">'edited_by'</span>: <span style=\"color: #008000; text-decoration-color: #008000\">'Jason'</span>, <span style=\"color: #008000; text-decoration-color: #008000\">'tags'</span>: <span style=\"font-weight: bold\">[</span><span style=\"color: #008000; text-decoration-color: #008000\">'some'</span>, <span style=\"color: #008000; text-decoration-color: #008000\">'tags'</span>, <span style=\"color: #008000; text-decoration-color: #008000\">'here'</span><span style=\"font-weight: bold\">]}</span>\n",
       "<span style=\"font-weight: bold\">}</span>\n",
       "</pre>\n"
      ],
      "text/plain": [
       "\u001b[1m{\u001b[0m\n",
       "    \u001b[32m'_id'\u001b[0m: \u001b[1;35mObjectId\u001b[0m\u001b[1m(\u001b[0m\u001b[32m'61bcf1e60d5e6b0870dc0728'\u001b[0m\u001b[1m)\u001b[0m,\n",
       "    \u001b[32m'parameter'\u001b[0m: \u001b[1;36m1000000\u001b[0m,\n",
       "    \u001b[32m'source'\u001b[0m: \u001b[1m{\u001b[0m\u001b[32m'model'\u001b[0m: \u001b[32m'==GLWM'\u001b[0m, \u001b[32m'run'\u001b[0m: \u001b[1;36m1639742400\u001b[0m, \u001b[32m'forecast'\u001b[0m: \u001b[1;36m3600\u001b[0m\u001b[1m}\u001b[0m,\n",
       "    \u001b[32m'name'\u001b[0m: \u001b[32m'Temperature Air'\u001b[0m,\n",
       "    \u001b[32m'unit'\u001b[0m: \u001b[32m'kelvin'\u001b[0m,\n",
       "    \u001b[32m'levels'\u001b[0m: \u001b[1m{\u001b[0m\u001b[32m'2m'\u001b[0m: \u001b[1m[\u001b[0m\u001b[1;36m270\u001b[0m, \u001b[1;36m275\u001b[0m, \u001b[1;36m280\u001b[0m, \u001b[1;36m285\u001b[0m\u001b[1m]\u001b[0m, \u001b[32m'900mb'\u001b[0m: \u001b[1m[\u001b[0m\u001b[1;36m250\u001b[0m, \u001b[1;36m240\u001b[0m, \u001b[1;36m230\u001b[0m, \u001b[1;36m220\u001b[0m\u001b[1m]\u001b[0m\u001b[1m}\u001b[0m,\n",
       "    \u001b[32m'time_entered'\u001b[0m: \u001b[1;35mdatetime.datetime\u001b[0m\u001b[1m(\u001b[0m\u001b[1;36m2021\u001b[0m, \u001b[1;36m12\u001b[0m, \u001b[1;36m17\u001b[0m, \u001b[1;36m20\u001b[0m, \u001b[1;36m24\u001b[0m, \u001b[1;36m6\u001b[0m, \u001b[1;36m431000\u001b[0m\u001b[1m)\u001b[0m,\n",
       "    \u001b[32m'metadata'\u001b[0m: \u001b[1m{\u001b[0m\u001b[32m'edited_by'\u001b[0m: \u001b[32m'Jason'\u001b[0m, \u001b[32m'tags'\u001b[0m: \u001b[1m[\u001b[0m\u001b[32m'some'\u001b[0m, \u001b[32m'tags'\u001b[0m, \u001b[32m'here'\u001b[0m\u001b[1m]\u001b[0m\u001b[1m}\u001b[0m\n",
       "\u001b[1m}\u001b[0m\n"
      ]
     },
     "metadata": {},
     "output_type": "display_data"
    },
    {
     "data": {
      "text/html": [
       "<pre style=\"white-space:pre;overflow-x:auto;line-height:normal;font-family:Menlo,'DejaVu Sans Mono',consolas,'Courier New',monospace\"><span style=\"font-weight: bold\">{</span>\n",
       "    <span style=\"color: #008000; text-decoration-color: #008000\">'_id'</span>: <span style=\"color: #800080; text-decoration-color: #800080; font-weight: bold\">ObjectId</span><span style=\"font-weight: bold\">(</span><span style=\"color: #008000; text-decoration-color: #008000\">'61bcf1e60d5e6b0870dc0729'</span><span style=\"font-weight: bold\">)</span>,\n",
       "    <span style=\"color: #008000; text-decoration-color: #008000\">'parameter'</span>: <span style=\"color: #008080; text-decoration-color: #008080; font-weight: bold\">500851</span>,\n",
       "    <span style=\"color: #008000; text-decoration-color: #008000\">'source'</span>: <span style=\"font-weight: bold\">{</span><span style=\"color: #008000; text-decoration-color: #008000\">'model'</span>: <span style=\"color: #008000; text-decoration-color: #008000\">'==GLWM'</span>, <span style=\"color: #008000; text-decoration-color: #008000\">'run'</span>: <span style=\"color: #008080; text-decoration-color: #008080; font-weight: bold\">1639742400</span>, <span style=\"color: #008000; text-decoration-color: #008000\">'forecast'</span>: <span style=\"color: #008080; text-decoration-color: #008080; font-weight: bold\">3600</span><span style=\"font-weight: bold\">}</span>,\n",
       "    <span style=\"color: #008000; text-decoration-color: #008000\">'name'</span>: <span style=\"color: #008000; text-decoration-color: #008000\">'Relative Humidity'</span>,\n",
       "    <span style=\"color: #008000; text-decoration-color: #008000\">'unit'</span>: <span style=\"color: #008000; text-decoration-color: #008000\">'percent'</span>,\n",
       "    <span style=\"color: #008000; text-decoration-color: #008000\">'levels'</span>: <span style=\"font-weight: bold\">{</span><span style=\"color: #008000; text-decoration-color: #008000\">'2m'</span>: <span style=\"font-weight: bold\">[</span><span style=\"color: #008080; text-decoration-color: #008080; font-weight: bold\">60</span>, <span style=\"color: #008080; text-decoration-color: #008080; font-weight: bold\">65</span>, <span style=\"color: #008080; text-decoration-color: #008080; font-weight: bold\">70</span>, <span style=\"color: #008080; text-decoration-color: #008080; font-weight: bold\">75</span><span style=\"font-weight: bold\">]</span>, <span style=\"color: #008000; text-decoration-color: #008000\">'900mb'</span>: <span style=\"font-weight: bold\">[</span><span style=\"color: #008080; text-decoration-color: #008080; font-weight: bold\">10</span>, <span style=\"color: #008080; text-decoration-color: #008080; font-weight: bold\">15</span>, <span style=\"color: #008080; text-decoration-color: #008080; font-weight: bold\">16</span>, <span style=\"color: #008080; text-decoration-color: #008080; font-weight: bold\">17</span><span style=\"font-weight: bold\">]}</span>,\n",
       "    <span style=\"color: #008000; text-decoration-color: #008000\">'time_entered'</span>: <span style=\"color: #800080; text-decoration-color: #800080; font-weight: bold\">datetime.datetime</span><span style=\"font-weight: bold\">(</span><span style=\"color: #008080; text-decoration-color: #008080; font-weight: bold\">2021</span>, <span style=\"color: #008080; text-decoration-color: #008080; font-weight: bold\">12</span>, <span style=\"color: #008080; text-decoration-color: #008080; font-weight: bold\">17</span>, <span style=\"color: #008080; text-decoration-color: #008080; font-weight: bold\">20</span>, <span style=\"color: #008080; text-decoration-color: #008080; font-weight: bold\">24</span>, <span style=\"color: #008080; text-decoration-color: #008080; font-weight: bold\">6</span>, <span style=\"color: #008080; text-decoration-color: #008080; font-weight: bold\">431000</span><span style=\"font-weight: bold\">)</span>,\n",
       "    <span style=\"color: #008000; text-decoration-color: #008000\">'metadata'</span>: <span style=\"font-weight: bold\">{</span><span style=\"color: #008000; text-decoration-color: #008000\">'edited_by'</span>: <span style=\"color: #008000; text-decoration-color: #008000\">'Jason'</span>, <span style=\"color: #008000; text-decoration-color: #008000\">'tags'</span>: <span style=\"font-weight: bold\">[</span><span style=\"color: #008000; text-decoration-color: #008000\">'different'</span>, <span style=\"color: #008000; text-decoration-color: #008000\">'tags'</span>, <span style=\"color: #008000; text-decoration-color: #008000\">'here'</span>, <span style=\"color: #008000; text-decoration-color: #008000\">'too'</span><span style=\"font-weight: bold\">]}</span>\n",
       "<span style=\"font-weight: bold\">}</span>\n",
       "</pre>\n"
      ],
      "text/plain": [
       "\u001b[1m{\u001b[0m\n",
       "    \u001b[32m'_id'\u001b[0m: \u001b[1;35mObjectId\u001b[0m\u001b[1m(\u001b[0m\u001b[32m'61bcf1e60d5e6b0870dc0729'\u001b[0m\u001b[1m)\u001b[0m,\n",
       "    \u001b[32m'parameter'\u001b[0m: \u001b[1;36m500851\u001b[0m,\n",
       "    \u001b[32m'source'\u001b[0m: \u001b[1m{\u001b[0m\u001b[32m'model'\u001b[0m: \u001b[32m'==GLWM'\u001b[0m, \u001b[32m'run'\u001b[0m: \u001b[1;36m1639742400\u001b[0m, \u001b[32m'forecast'\u001b[0m: \u001b[1;36m3600\u001b[0m\u001b[1m}\u001b[0m,\n",
       "    \u001b[32m'name'\u001b[0m: \u001b[32m'Relative Humidity'\u001b[0m,\n",
       "    \u001b[32m'unit'\u001b[0m: \u001b[32m'percent'\u001b[0m,\n",
       "    \u001b[32m'levels'\u001b[0m: \u001b[1m{\u001b[0m\u001b[32m'2m'\u001b[0m: \u001b[1m[\u001b[0m\u001b[1;36m60\u001b[0m, \u001b[1;36m65\u001b[0m, \u001b[1;36m70\u001b[0m, \u001b[1;36m75\u001b[0m\u001b[1m]\u001b[0m, \u001b[32m'900mb'\u001b[0m: \u001b[1m[\u001b[0m\u001b[1;36m10\u001b[0m, \u001b[1;36m15\u001b[0m, \u001b[1;36m16\u001b[0m, \u001b[1;36m17\u001b[0m\u001b[1m]\u001b[0m\u001b[1m}\u001b[0m,\n",
       "    \u001b[32m'time_entered'\u001b[0m: \u001b[1;35mdatetime.datetime\u001b[0m\u001b[1m(\u001b[0m\u001b[1;36m2021\u001b[0m, \u001b[1;36m12\u001b[0m, \u001b[1;36m17\u001b[0m, \u001b[1;36m20\u001b[0m, \u001b[1;36m24\u001b[0m, \u001b[1;36m6\u001b[0m, \u001b[1;36m431000\u001b[0m\u001b[1m)\u001b[0m,\n",
       "    \u001b[32m'metadata'\u001b[0m: \u001b[1m{\u001b[0m\u001b[32m'edited_by'\u001b[0m: \u001b[32m'Jason'\u001b[0m, \u001b[32m'tags'\u001b[0m: \u001b[1m[\u001b[0m\u001b[32m'different'\u001b[0m, \u001b[32m'tags'\u001b[0m, \u001b[32m'here'\u001b[0m, \u001b[32m'too'\u001b[0m\u001b[1m]\u001b[0m\u001b[1m}\u001b[0m\n",
       "\u001b[1m}\u001b[0m\n"
      ]
     },
     "metadata": {},
     "output_type": "display_data"
    }
   ],
   "source": [
    "print(collection.find_one(object_id))\n",
    "print(collection.find_one(object_id2))"
   ]
  },
  {
   "cell_type": "code",
   "execution_count": 9,
   "id": "e8817258-2d94-4b9d-9758-e4e2386b99c6",
   "metadata": {},
   "outputs": [
    {
     "data": {
      "text/plain": [
       "dict"
      ]
     },
     "execution_count": 9,
     "metadata": {},
     "output_type": "execute_result"
    }
   ],
   "source": [
    "type(collection.find_one(object_id))"
   ]
  },
  {
   "cell_type": "code",
   "execution_count": 10,
   "id": "1cedae4d-32d8-45f8-a020-eb25dfbcb4a3",
   "metadata": {},
   "outputs": [
    {
     "data": {
      "text/html": [
       "<pre style=\"white-space:pre;overflow-x:auto;line-height:normal;font-family:Menlo,'DejaVu Sans Mono',consolas,'Courier New',monospace\"><span style=\"color: #008080; text-decoration-color: #008080; font-weight: bold\">2021</span>-<span style=\"color: #008080; text-decoration-color: #008080; font-weight: bold\">12</span>-<span style=\"color: #008080; text-decoration-color: #008080; font-weight: bold\">17</span> <span style=\"color: #00ff00; text-decoration-color: #00ff00; font-weight: bold\">20:24:06</span>.<span style=\"color: #008080; text-decoration-color: #008080; font-weight: bold\">431000</span>\n",
       "</pre>\n"
      ],
      "text/plain": [
       "\u001b[1;36m2021\u001b[0m-\u001b[1;36m12\u001b[0m-\u001b[1;36m17\u001b[0m \u001b[1;92m20:24:06\u001b[0m.\u001b[1;36m431000\u001b[0m\n"
      ]
     },
     "metadata": {},
     "output_type": "display_data"
    },
    {
     "data": {
      "text/html": [
       "<pre style=\"white-space:pre;overflow-x:auto;line-height:normal;font-family:Menlo,'DejaVu Sans Mono',consolas,'Courier New',monospace\"><span style=\"font-weight: bold\">&lt;</span><span style=\"color: #ff00ff; text-decoration-color: #ff00ff; font-weight: bold\">class</span><span style=\"color: #000000; text-decoration-color: #000000\"> </span><span style=\"color: #008000; text-decoration-color: #008000\">'datetime.datetime'</span><span style=\"font-weight: bold\">&gt;</span>\n",
       "</pre>\n"
      ],
      "text/plain": [
       "\u001b[1m<\u001b[0m\u001b[1;95mclass\u001b[0m\u001b[39m \u001b[0m\u001b[32m'datetime.datetime'\u001b[0m\u001b[1m>\u001b[0m\n"
      ]
     },
     "metadata": {},
     "output_type": "display_data"
    }
   ],
   "source": [
    "print(collection.find_one(object_id).get('time_entered'))\n",
    "print(type(collection.find_one(object_id).get('time_entered')))"
   ]
  },
  {
   "cell_type": "code",
   "execution_count": 13,
   "id": "3dc9cf45-7c80-4521-aa4a-33bc72a58cda",
   "metadata": {},
   "outputs": [],
   "source": [
    "cursor = collection.find()\n",
    "data = list(cursor)\n",
    "df = pd.DataFrame(data)"
   ]
  },
  {
   "cell_type": "code",
   "execution_count": 14,
   "id": "7326014c-4115-473c-aff8-1fdf658e94a1",
   "metadata": {},
   "outputs": [
    {
     "data": {
      "text/html": [
       "<div>\n",
       "<style scoped>\n",
       "    .dataframe tbody tr th:only-of-type {\n",
       "        vertical-align: middle;\n",
       "    }\n",
       "\n",
       "    .dataframe tbody tr th {\n",
       "        vertical-align: top;\n",
       "    }\n",
       "\n",
       "    .dataframe thead th {\n",
       "        text-align: right;\n",
       "    }\n",
       "</style>\n",
       "<table border=\"1\" class=\"dataframe\">\n",
       "  <thead>\n",
       "    <tr style=\"text-align: right;\">\n",
       "      <th></th>\n",
       "      <th>_id</th>\n",
       "      <th>parameter</th>\n",
       "      <th>source</th>\n",
       "      <th>name</th>\n",
       "      <th>unit</th>\n",
       "      <th>levels</th>\n",
       "      <th>time_entered</th>\n",
       "      <th>metadata</th>\n",
       "    </tr>\n",
       "  </thead>\n",
       "  <tbody>\n",
       "    <tr>\n",
       "      <th>0</th>\n",
       "      <td>61bce001d1524bb34deca366</td>\n",
       "      <td>1000000</td>\n",
       "      <td>{'model': '==GLWM', 'run': 1639742400, 'foreca...</td>\n",
       "      <td>Temperature Air</td>\n",
       "      <td>kelvin</td>\n",
       "      <td>{'2m': [270, 275, 280, 285], '900mb': [250, 24...</td>\n",
       "      <td>2021-12-17 19:07:45.582</td>\n",
       "      <td>{'edited_by': 'Jason', 'tags': ['some', 'tags'...</td>\n",
       "    </tr>\n",
       "    <tr>\n",
       "      <th>1</th>\n",
       "      <td>61bce001d1524bb34deca367</td>\n",
       "      <td>500851</td>\n",
       "      <td>{'model': '==GLWM', 'run': 1639742400, 'foreca...</td>\n",
       "      <td>Relative Humidity</td>\n",
       "      <td>percent</td>\n",
       "      <td>{'2m': [60, 65, 70, 75], '900mb': [10, 15, 16,...</td>\n",
       "      <td>2021-12-17 19:07:45.582</td>\n",
       "      <td>{'edited_by': 'Jason', 'tags': ['different', '...</td>\n",
       "    </tr>\n",
       "    <tr>\n",
       "      <th>2</th>\n",
       "      <td>61bcf1d628377163c89cfe40</td>\n",
       "      <td>1000000</td>\n",
       "      <td>{'model': '==GLWM', 'run': 1639742400, 'foreca...</td>\n",
       "      <td>Temperature Air</td>\n",
       "      <td>kelvin</td>\n",
       "      <td>{'2m': [270, 275, 280, 285], '900mb': [250, 24...</td>\n",
       "      <td>2021-12-17 20:23:50.930</td>\n",
       "      <td>{'edited_by': 'Jason', 'tags': ['some', 'tags'...</td>\n",
       "    </tr>\n",
       "    <tr>\n",
       "      <th>3</th>\n",
       "      <td>61bcf1d628377163c89cfe41</td>\n",
       "      <td>500851</td>\n",
       "      <td>{'model': '==GLWM', 'run': 1639742400, 'foreca...</td>\n",
       "      <td>Relative Humidity</td>\n",
       "      <td>percent</td>\n",
       "      <td>{'2m': [60, 65, 70, 75], '900mb': [10, 15, 16,...</td>\n",
       "      <td>2021-12-17 20:23:50.930</td>\n",
       "      <td>{'edited_by': 'Jason', 'tags': ['different', '...</td>\n",
       "    </tr>\n",
       "    <tr>\n",
       "      <th>4</th>\n",
       "      <td>61bcf1e60d5e6b0870dc0728</td>\n",
       "      <td>1000000</td>\n",
       "      <td>{'model': '==GLWM', 'run': 1639742400, 'foreca...</td>\n",
       "      <td>Temperature Air</td>\n",
       "      <td>kelvin</td>\n",
       "      <td>{'2m': [270, 275, 280, 285], '900mb': [250, 24...</td>\n",
       "      <td>2021-12-17 20:24:06.431</td>\n",
       "      <td>{'edited_by': 'Jason', 'tags': ['some', 'tags'...</td>\n",
       "    </tr>\n",
       "    <tr>\n",
       "      <th>5</th>\n",
       "      <td>61bcf1e60d5e6b0870dc0729</td>\n",
       "      <td>500851</td>\n",
       "      <td>{'model': '==GLWM', 'run': 1639742400, 'foreca...</td>\n",
       "      <td>Relative Humidity</td>\n",
       "      <td>percent</td>\n",
       "      <td>{'2m': [60, 65, 70, 75], '900mb': [10, 15, 16,...</td>\n",
       "      <td>2021-12-17 20:24:06.431</td>\n",
       "      <td>{'edited_by': 'Jason', 'tags': ['different', '...</td>\n",
       "    </tr>\n",
       "  </tbody>\n",
       "</table>\n",
       "</div>"
      ],
      "text/plain": [
       "                        _id  parameter  \\\n",
       "0  61bce001d1524bb34deca366    1000000   \n",
       "1  61bce001d1524bb34deca367     500851   \n",
       "2  61bcf1d628377163c89cfe40    1000000   \n",
       "3  61bcf1d628377163c89cfe41     500851   \n",
       "4  61bcf1e60d5e6b0870dc0728    1000000   \n",
       "5  61bcf1e60d5e6b0870dc0729     500851   \n",
       "\n",
       "                                              source               name  \\\n",
       "0  {'model': '==GLWM', 'run': 1639742400, 'foreca...    Temperature Air   \n",
       "1  {'model': '==GLWM', 'run': 1639742400, 'foreca...  Relative Humidity   \n",
       "2  {'model': '==GLWM', 'run': 1639742400, 'foreca...    Temperature Air   \n",
       "3  {'model': '==GLWM', 'run': 1639742400, 'foreca...  Relative Humidity   \n",
       "4  {'model': '==GLWM', 'run': 1639742400, 'foreca...    Temperature Air   \n",
       "5  {'model': '==GLWM', 'run': 1639742400, 'foreca...  Relative Humidity   \n",
       "\n",
       "      unit                                             levels  \\\n",
       "0   kelvin  {'2m': [270, 275, 280, 285], '900mb': [250, 24...   \n",
       "1  percent  {'2m': [60, 65, 70, 75], '900mb': [10, 15, 16,...   \n",
       "2   kelvin  {'2m': [270, 275, 280, 285], '900mb': [250, 24...   \n",
       "3  percent  {'2m': [60, 65, 70, 75], '900mb': [10, 15, 16,...   \n",
       "4   kelvin  {'2m': [270, 275, 280, 285], '900mb': [250, 24...   \n",
       "5  percent  {'2m': [60, 65, 70, 75], '900mb': [10, 15, 16,...   \n",
       "\n",
       "             time_entered                                           metadata  \n",
       "0 2021-12-17 19:07:45.582  {'edited_by': 'Jason', 'tags': ['some', 'tags'...  \n",
       "1 2021-12-17 19:07:45.582  {'edited_by': 'Jason', 'tags': ['different', '...  \n",
       "2 2021-12-17 20:23:50.930  {'edited_by': 'Jason', 'tags': ['some', 'tags'...  \n",
       "3 2021-12-17 20:23:50.930  {'edited_by': 'Jason', 'tags': ['different', '...  \n",
       "4 2021-12-17 20:24:06.431  {'edited_by': 'Jason', 'tags': ['some', 'tags'...  \n",
       "5 2021-12-17 20:24:06.431  {'edited_by': 'Jason', 'tags': ['different', '...  "
      ]
     },
     "execution_count": 14,
     "metadata": {},
     "output_type": "execute_result"
    }
   ],
   "source": [
    "df"
   ]
  },
  {
   "cell_type": "code",
   "execution_count": 15,
   "id": "6815d9de-dc8b-4243-9d8d-75e0d55db5fa",
   "metadata": {},
   "outputs": [
    {
     "data": {
      "text/html": [
       "<div>\n",
       "<style scoped>\n",
       "    .dataframe tbody tr th:only-of-type {\n",
       "        vertical-align: middle;\n",
       "    }\n",
       "\n",
       "    .dataframe tbody tr th {\n",
       "        vertical-align: top;\n",
       "    }\n",
       "\n",
       "    .dataframe thead th {\n",
       "        text-align: right;\n",
       "    }\n",
       "</style>\n",
       "<table border=\"1\" class=\"dataframe\">\n",
       "  <thead>\n",
       "    <tr style=\"text-align: right;\">\n",
       "      <th></th>\n",
       "      <th>_id</th>\n",
       "      <th>parameter</th>\n",
       "      <th>name</th>\n",
       "      <th>unit</th>\n",
       "      <th>time_entered</th>\n",
       "      <th>source.model</th>\n",
       "      <th>source.run</th>\n",
       "      <th>source.forecast</th>\n",
       "      <th>levels.2m</th>\n",
       "      <th>levels.900mb</th>\n",
       "      <th>metadata.edited_by</th>\n",
       "      <th>metadata.tags</th>\n",
       "    </tr>\n",
       "  </thead>\n",
       "  <tbody>\n",
       "    <tr>\n",
       "      <th>0</th>\n",
       "      <td>61bce001d1524bb34deca366</td>\n",
       "      <td>1000000</td>\n",
       "      <td>Temperature Air</td>\n",
       "      <td>kelvin</td>\n",
       "      <td>2021-12-17 19:07:45.582</td>\n",
       "      <td>==GLWM</td>\n",
       "      <td>1639742400</td>\n",
       "      <td>3600</td>\n",
       "      <td>[270, 275, 280, 285]</td>\n",
       "      <td>[250, 240, 230, 220]</td>\n",
       "      <td>Jason</td>\n",
       "      <td>[some, tags, here]</td>\n",
       "    </tr>\n",
       "    <tr>\n",
       "      <th>1</th>\n",
       "      <td>61bce001d1524bb34deca367</td>\n",
       "      <td>500851</td>\n",
       "      <td>Relative Humidity</td>\n",
       "      <td>percent</td>\n",
       "      <td>2021-12-17 19:07:45.582</td>\n",
       "      <td>==GLWM</td>\n",
       "      <td>1639742400</td>\n",
       "      <td>3600</td>\n",
       "      <td>[60, 65, 70, 75]</td>\n",
       "      <td>[10, 15, 16, 17]</td>\n",
       "      <td>Jason</td>\n",
       "      <td>[different, tags, here, too]</td>\n",
       "    </tr>\n",
       "    <tr>\n",
       "      <th>2</th>\n",
       "      <td>61bcf1d628377163c89cfe40</td>\n",
       "      <td>1000000</td>\n",
       "      <td>Temperature Air</td>\n",
       "      <td>kelvin</td>\n",
       "      <td>2021-12-17 20:23:50.930</td>\n",
       "      <td>==GLWM</td>\n",
       "      <td>1639742400</td>\n",
       "      <td>3600</td>\n",
       "      <td>[270, 275, 280, 285]</td>\n",
       "      <td>[250, 240, 230, 220]</td>\n",
       "      <td>Jason</td>\n",
       "      <td>[some, tags, here]</td>\n",
       "    </tr>\n",
       "    <tr>\n",
       "      <th>3</th>\n",
       "      <td>61bcf1d628377163c89cfe41</td>\n",
       "      <td>500851</td>\n",
       "      <td>Relative Humidity</td>\n",
       "      <td>percent</td>\n",
       "      <td>2021-12-17 20:23:50.930</td>\n",
       "      <td>==GLWM</td>\n",
       "      <td>1639742400</td>\n",
       "      <td>3600</td>\n",
       "      <td>[60, 65, 70, 75]</td>\n",
       "      <td>[10, 15, 16, 17]</td>\n",
       "      <td>Jason</td>\n",
       "      <td>[different, tags, here, too]</td>\n",
       "    </tr>\n",
       "    <tr>\n",
       "      <th>4</th>\n",
       "      <td>61bcf1e60d5e6b0870dc0728</td>\n",
       "      <td>1000000</td>\n",
       "      <td>Temperature Air</td>\n",
       "      <td>kelvin</td>\n",
       "      <td>2021-12-17 20:24:06.431</td>\n",
       "      <td>==GLWM</td>\n",
       "      <td>1639742400</td>\n",
       "      <td>3600</td>\n",
       "      <td>[270, 275, 280, 285]</td>\n",
       "      <td>[250, 240, 230, 220]</td>\n",
       "      <td>Jason</td>\n",
       "      <td>[some, tags, here]</td>\n",
       "    </tr>\n",
       "    <tr>\n",
       "      <th>5</th>\n",
       "      <td>61bcf1e60d5e6b0870dc0729</td>\n",
       "      <td>500851</td>\n",
       "      <td>Relative Humidity</td>\n",
       "      <td>percent</td>\n",
       "      <td>2021-12-17 20:24:06.431</td>\n",
       "      <td>==GLWM</td>\n",
       "      <td>1639742400</td>\n",
       "      <td>3600</td>\n",
       "      <td>[60, 65, 70, 75]</td>\n",
       "      <td>[10, 15, 16, 17]</td>\n",
       "      <td>Jason</td>\n",
       "      <td>[different, tags, here, too]</td>\n",
       "    </tr>\n",
       "  </tbody>\n",
       "</table>\n",
       "</div>"
      ],
      "text/plain": [
       "                        _id  parameter               name     unit  \\\n",
       "0  61bce001d1524bb34deca366    1000000    Temperature Air   kelvin   \n",
       "1  61bce001d1524bb34deca367     500851  Relative Humidity  percent   \n",
       "2  61bcf1d628377163c89cfe40    1000000    Temperature Air   kelvin   \n",
       "3  61bcf1d628377163c89cfe41     500851  Relative Humidity  percent   \n",
       "4  61bcf1e60d5e6b0870dc0728    1000000    Temperature Air   kelvin   \n",
       "5  61bcf1e60d5e6b0870dc0729     500851  Relative Humidity  percent   \n",
       "\n",
       "             time_entered source.model  source.run  source.forecast  \\\n",
       "0 2021-12-17 19:07:45.582       ==GLWM  1639742400             3600   \n",
       "1 2021-12-17 19:07:45.582       ==GLWM  1639742400             3600   \n",
       "2 2021-12-17 20:23:50.930       ==GLWM  1639742400             3600   \n",
       "3 2021-12-17 20:23:50.930       ==GLWM  1639742400             3600   \n",
       "4 2021-12-17 20:24:06.431       ==GLWM  1639742400             3600   \n",
       "5 2021-12-17 20:24:06.431       ==GLWM  1639742400             3600   \n",
       "\n",
       "              levels.2m          levels.900mb metadata.edited_by  \\\n",
       "0  [270, 275, 280, 285]  [250, 240, 230, 220]              Jason   \n",
       "1      [60, 65, 70, 75]      [10, 15, 16, 17]              Jason   \n",
       "2  [270, 275, 280, 285]  [250, 240, 230, 220]              Jason   \n",
       "3      [60, 65, 70, 75]      [10, 15, 16, 17]              Jason   \n",
       "4  [270, 275, 280, 285]  [250, 240, 230, 220]              Jason   \n",
       "5      [60, 65, 70, 75]      [10, 15, 16, 17]              Jason   \n",
       "\n",
       "                  metadata.tags  \n",
       "0            [some, tags, here]  \n",
       "1  [different, tags, here, too]  \n",
       "2            [some, tags, here]  \n",
       "3  [different, tags, here, too]  \n",
       "4            [some, tags, here]  \n",
       "5  [different, tags, here, too]  "
      ]
     },
     "execution_count": 15,
     "metadata": {},
     "output_type": "execute_result"
    }
   ],
   "source": [
    "pd.json_normalize(data)"
   ]
  },
  {
   "cell_type": "code",
   "execution_count": null,
   "id": "926afb31-942e-4441-84e7-6a8def1f77dc",
   "metadata": {},
   "outputs": [],
   "source": []
  },
  {
   "cell_type": "code",
   "execution_count": null,
   "id": "02a6a27a-c453-469b-8dd9-fabf906ef71d",
   "metadata": {},
   "outputs": [],
   "source": []
  },
  {
   "cell_type": "code",
   "execution_count": null,
   "id": "2f5aa662-8984-439d-8967-4e9426d1d8b7",
   "metadata": {},
   "outputs": [],
   "source": []
  },
  {
   "cell_type": "code",
   "execution_count": null,
   "id": "6f208aef-2e0f-4f87-ba49-9c1f06556581",
   "metadata": {},
   "outputs": [],
   "source": []
  }
 ],
 "metadata": {
  "kernelspec": {
   "display_name": "Python 3 (ipykernel)",
   "language": "python",
   "name": "python3"
  },
  "language_info": {
   "codemirror_mode": {
    "name": "ipython",
    "version": 3
   },
   "file_extension": ".py",
   "mimetype": "text/x-python",
   "name": "python",
   "nbconvert_exporter": "python",
   "pygments_lexer": "ipython3",
   "version": "3.9.6"
  }
 },
 "nbformat": 4,
 "nbformat_minor": 5
}
